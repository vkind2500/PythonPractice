{
 "cells": [
  {
   "cell_type": "markdown",
   "metadata": {},
   "source": [
    "# Introduction to Python tuples\n",
    "\n",
    "A ``tuple`` is a list that cannot change. Python refers to a value that cannot change as ``immutable``. \n",
    "\n",
    "So by definition, a ``tuple`` is an ``immutable list``.\n",
    "\n",
    "#### Defining a tuple\n",
    "\n",
    "The following example defines a tuple called ``rgb``:"
   ]
  },
  {
   "cell_type": "code",
   "execution_count": 2,
   "metadata": {},
   "outputs": [
    {
     "name": "stdout",
     "output_type": "stream",
     "text": [
      "red\n",
      "green\n",
      "blue\n"
     ]
    }
   ],
   "source": [
    "rgb = ('red', 'green', 'blue')\n",
    "\n",
    "# Once defining a tuple, you can access an individual element by its index. For example:\n",
    "\n",
    "print(rgb[0])\n",
    "print(rgb[1])\n",
    "print(rgb[2])"
   ]
  },
  {
   "cell_type": "markdown",
   "metadata": {},
   "source": [
    "The following example attempts to change the first element of the rgb tuple to 'yellow':"
   ]
  },
  {
   "cell_type": "code",
   "execution_count": 3,
   "metadata": {},
   "outputs": [
    {
     "ename": "TypeError",
     "evalue": "'tuple' object does not support item assignment",
     "output_type": "error",
     "traceback": [
      "\u001b[0;31m---------------------------------------------------------------------------\u001b[0m",
      "\u001b[0;31mTypeError\u001b[0m                                 Traceback (most recent call last)",
      "Cell \u001b[0;32mIn[3], line 1\u001b[0m\n\u001b[0;32m----> 1\u001b[0m rgb[\u001b[38;5;241m0\u001b[39m] \u001b[38;5;241m=\u001b[39m \u001b[38;5;124m'\u001b[39m\u001b[38;5;124myellow\u001b[39m\u001b[38;5;124m'\u001b[39m\n",
      "\u001b[0;31mTypeError\u001b[0m: 'tuple' object does not support item assignment"
     ]
    }
   ],
   "source": [
    "rgb[0] = 'yellow' # TypeError: 'tuple' object does not support item assignment"
   ]
  },
  {
   "cell_type": "markdown",
   "metadata": {},
   "source": [
    "#### Defining a tuple that has one element\n",
    "\n",
    "To define a tuple with one element, we need to include a trailing comma after the first element. For example:\n",
    "\n",
    "```python\n",
    "numbers = (3,)\n",
    "print(type(numbers)) # <class 'tuple'>\n",
    "```\n",
    "\n",
    "or \n",
    "\n",
    "```python\n",
    "numbers = 3,\n",
    "```\n",
    "\n",
    "If we exclude the trailing comma, the type of the numbers will be int , which stands for integer. \n",
    "\n",
    "```python\n",
    "numbers = (3)\n",
    "print(type(numbers)) #<class 'int'>\n",
    "```\n",
    "\n",
    "Python also uses the parentheses to create an empty tuple:\n",
    "\n",
    "```()``` \n",
    "\n",
    "In addition, we can use the ``tuple()`` constructor like this:\n",
    "\n",
    "```tuple()```\n"
   ]
  },
  {
   "cell_type": "markdown",
   "metadata": {},
   "source": [
    "### Unpacking a tuple\n",
    "\n",
    "Unpacking a tuple means splitting the tuple’s elements into individual variables. For example:"
   ]
  },
  {
   "cell_type": "code",
   "execution_count": 4,
   "metadata": {},
   "outputs": [
    {
     "name": "stdout",
     "output_type": "stream",
     "text": [
      "x is 1 , y is 2\n"
     ]
    }
   ],
   "source": [
    "x, y = (1, 2)\n",
    "\n",
    "print(f'x is {x} , y is {y}')"
   ]
  },
  {
   "cell_type": "markdown",
   "metadata": {},
   "source": [
    "While unpacking tuples , the no of variables on left side should be equal to number of elements in a tuple.\n",
    "\n",
    "For example :-\n",
    "\n",
    "```python\n",
    "x,y = 10,20,30 # ValueError: too many values to unpack (expected 2)\n",
    "\n",
    "```\n",
    "\n",
    "This error is because the right-hand side returns three values while the left-hand side only has two variables.\n",
    "\n",
    "To fix this, you can add a _ variable:\n",
    "\n",
    "```python\n",
    "\n",
    "x, y, _ = 10, 20, 30\n",
    "\n",
    "```\n",
    "\n",
    "The ``_`` variable is a regular variable in Python. By convention, it’s called a ``dummy variable``.\n",
    "\n",
    "\n",
    "##### What is the ouput of below code snippet?\n",
    "\n",
    "x,y,z = 10,\n",
    "\n",
    "Ans: ValueError: not enough values to unpack (expected 3, got 2)\n"
   ]
  },
  {
   "cell_type": "markdown",
   "metadata": {},
   "source": [
    "### Extended unpacking using the * operator\n",
    "\n",
    "In the following example, Python assigns 192 to r, 210 to g. Also, Python packs the remaining elements 100 and 0.5 into a list and assigns it to the other variable."
   ]
  },
  {
   "cell_type": "code",
   "execution_count": 7,
   "metadata": {},
   "outputs": [
    {
     "name": "stdout",
     "output_type": "stream",
     "text": [
      "r is 192,g is 210 and other is [100, 0.5]\n"
     ]
    }
   ],
   "source": [
    "r, g, *other = (192, 210, 100, 0.5)\n",
    "\n",
    "print(f'r is {r},g is {g} and other is {other}')"
   ]
  },
  {
   "cell_type": "markdown",
   "metadata": {},
   "source": [
    "Notice that we can only use the * operator once on the left-hand side of an unpacking assignment.\n",
    "\n",
    "The following example results in error:**SyntaxError: two starred expressions in assignment**\n",
    "\n",
    "```python\n",
    "x, y, *z, *t = (10, 20, 30, '10:30')\n",
    "```"
   ]
  },
  {
   "cell_type": "markdown",
   "metadata": {},
   "source": [
    "### Using the * operator on the right hand side\n",
    "\n",
    "Suppose that we have two tuples:\n",
    "\n",
    "```\n",
    "odd_numbers = (1, 3, 5)\n",
    "even_numbers = (2, 4, 6)\n",
    "```\n",
    "\n",
    "The following example uses the ``*`` operator to unpack those tuples and merge them into a single tuple:"
   ]
  },
  {
   "cell_type": "code",
   "execution_count": 8,
   "metadata": {},
   "outputs": [
    {
     "name": "stdout",
     "output_type": "stream",
     "text": [
      "(1, 3, 5, 2, 4, 6)\n"
     ]
    }
   ],
   "source": [
    "odd_numbers = (1, 3, 5)\n",
    "even_numbers = (2, 4, 6)\n",
    "\n",
    "numbers = (*odd_numbers, *even_numbers)\n",
    "print(numbers)"
   ]
  },
  {
   "cell_type": "markdown",
   "metadata": {},
   "source": [
    "### Introduction to Python named tuples\n",
    "\n",
    "The following shows a tuple that has two elements:\n",
    "\n",
    "```python\n",
    "point = (100,200)\n",
    "```\n",
    "\n",
    "The point tuple represents a 2D point whose x-coordinate is 100 and y coordinate is 200.\n",
    "\n",
    "To get the x-coordinate and y-coordinate, we can use the following syntax:\n",
    "\n",
    "```python\n",
    " x = point[0] # x-coordinate\n",
    " y = point[1] # y- coordinate\n",
    " ```\n",
    "\n",
    " This code works fine. However, it’s not mention explicitly that ``point[0]`` represent x-coordinate, it is known from the code implicitly.\n",
    "\n",
    " To make it more clear, we might want to use a class as follows :-\n"
   ]
  },
  {
   "cell_type": "code",
   "execution_count": 11,
   "metadata": {},
   "outputs": [
    {
     "name": "stdout",
     "output_type": "stream",
     "text": [
      "x is 100 and y is 200\n",
      "Is a is equal to b : True\n"
     ]
    }
   ],
   "source": [
    "class Point2D:\n",
    "    def __init__(self, x, y):\n",
    "        self.x = x\n",
    "        self.y = y\n",
    "        \n",
    "    def __eq__(self, other) -> bool:\n",
    "        if isinstance(other,Point2D):\n",
    "            return self.x == other.x and self.y == other.y\n",
    "        return False\n",
    "    def __str__(self) -> str:\n",
    "        return f'x is {self.x} and y is {self.y}'\n",
    "\n",
    "a = Point2D(100, 200)\n",
    "b = Point2D(100,200)\n",
    "\n",
    "print(a)\n",
    "print(f'Is a is equal to b : {a==b}')     "
   ]
  },
  {
   "attachments": {
    "image-2.png": {
     "image/png": "[encoded data removed]"
    },
    "image.png": {
     "image/png": "[encoded data removed]"
    }
   },
   "cell_type": "markdown",
   "metadata": {},
   "source": [
    "The ``__eq__`` method checks if a point is an instance of the Point2D class and returns True if both x-coordinate and y-coordinate are equal.\n",
    "\n",
    "The ``Point2D`` might work as you expected. However, we need to write a lot of code.\n",
    "\n",
    "To combine the simplicity of a tuple and the obvious of a class, we can use a named tuple:\n",
    "\n",
    "![image.png](attachment:image.png)\n",
    "\n",
    "Named tuples allow you to create tuples and assign meaningful names to the positions of the tuple’s elements.\n",
    "\n",
    "Technically, a named tuple is a subclass of ``tuple``. On top of that, it adds property names to the positional elements.\n",
    "\n",
    "### Creating named tuple classes\n",
    "\n",
    "To create a named tuple class, we need to use the ``namedtuple`` function of the ``collections`` standard library.\n",
    "\n",
    "The ``namedtuple`` is a function that returns a new named tuple class. In other words, the ``namedtuple()`` is a class factory.\n",
    "\n",
    "**The namedtuple function accepts the following arguments to generate a class:**\n",
    "\n",
    "-   A class name that specifies the name of the named tuple class.\n",
    "-   A sequence of field names that correspond to the elements of tuples. The field names must be valid variable names except that they cannot start with an underscore (_).\n",
    "\n",
    "For example, the following uses the namedtuple function to create the Point2D class:\n",
    "\n",
    "```python\n",
    "Point2D = namedtuple('Point2D',['x','y'])\n",
    "```\n",
    "\n",
    "Otherways\n",
    "\n",
    "```python\n",
    "\n",
    "Point2D = namedtuple('Point2D',('x','y'))\n",
    "\n",
    "or\n",
    "\n",
    "Point2D = namedtuple('Point2D',('x, y'))\n",
    "\n",
    "or\n",
    "\n",
    "Point2D = namedtuple('Point2D','x y')\n",
    "```\n",
    "\n",
    "The Point2D is a class, which is a subclass of the ``tuple``. \n",
    "\n",
    "Now we create new instances of the ``Point2D`` class like below :-\n",
    "\n",
    "```python\n",
    "point = Point2D(x=100, y=200);\n",
    "```\n",
    "\n",
    "![image-2.png](attachment:image-2.png)\n",
    "\n"
   ]
  },
  {
   "cell_type": "code",
   "execution_count": 19,
   "metadata": {},
   "outputs": [
    {
     "name": "stdout",
     "output_type": "stream",
     "text": [
      "Type of Point2D : <class 'type'>\n",
      "point is instance of Point2D : True\n",
      "point is tuple : True\n",
      "Point2D(x=100, y=200)\n",
      "x is 100 and y is 200\n",
      "100\n",
      "200\n",
      "Is point equal to a : True\n",
      "Max of point is 200\n"
     ]
    }
   ],
   "source": [
    "from collections import namedtuple\n",
    "\n",
    "Point2D = namedtuple('Point2D','x,y')\n",
    "\n",
    "print(f'Type of Point2D : {type(Point2D)}')\n",
    "\n",
    "point = Point2D(y=200,x=100)\n",
    "\n",
    "print(f'point is instance of Point2D : {isinstance(point,Point2D)}')\n",
    "print(f'point is tuple : {isinstance(point,tuple)}')\n",
    "\n",
    "print(f'{point}')\n",
    "\n",
    "# unpacking named tuple\n",
    "\n",
    "x,y = point\n",
    "\n",
    "print(f'x is {x} and y is {y}')\n",
    "\n",
    "# iterating coordinates\n",
    "\n",
    "for coordinate in point:\n",
    "    print(coordinate)\n",
    "    \n",
    "b = Point2D(y=200,x=100)\n",
    "\n",
    "# comparing tuples\n",
    "\n",
    "print(f'Is point equal to a : {point==a}')  \n",
    "\n",
    "# Print max value of tuple\n",
    "\n",
    "print(f'Max of point is {max(point)}')  "
   ]
  }
 ],
 "metadata": {
  "kernelspec": {
   "display_name": "base",
   "language": "python",
   "name": "python3"
  },
  "language_info": {
   "codemirror_mode": {
    "name": "ipython",
    "version": 3
   },
   "file_extension": ".py",
   "mimetype": "text/x-python",
   "name": "python",
   "nbconvert_exporter": "python",
   "pygments_lexer": "ipython3",
   "version": "3.12.4"
  }
 },
 "nbformat": 4,
 "nbformat_minor": 2
}
